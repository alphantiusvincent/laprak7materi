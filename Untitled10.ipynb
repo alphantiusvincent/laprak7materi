{
  "nbformat": 4,
  "nbformat_minor": 0,
  "metadata": {
    "colab": {
      "provenance": []
    },
    "kernelspec": {
      "name": "python3",
      "display_name": "Python 3"
    },
    "language_info": {
      "name": "python"
    }
  },
  "cells": [
    {
      "cell_type": "code",
      "execution_count": null,
      "metadata": {
        "id": "TcHsDo12abm8"
      },
      "outputs": [],
      "source": [
        "namasaya = \"Alphantius vincent\"\n",
        "temansaya1 = \"alliando syarief\"\n",
        "temansaya2 = 'i putu gede kenzie carlen mataram'\n",
        "temansaya3 = \"Matahari \" + \"Bakti \" + \"keren\"\n",
        "\n",
        "print(temansaya3)\n",
        "print(namasaya[0]) #'A'\n",
        "print(namasaya[9]) #'s'\n",
        "print(temansaya1[1]) #'l'\n",
        "\n",
        "huruf = temansaya2[0]\n",
        "print(huruf) #'i'\n"
      ]
    },
    {
      "cell_type": "code",
      "source": [
        "# operator IN\n",
        "kalimat = \"saya suka matahari terbit\"\n",
        "data = \"saya\"\n",
        "print(data in kalimat) #True\n",
        "print(\"suka\" in kalimat) #True\n",
        "print(\"matahari\" in kalimat) #True\n",
        "print(\"bulan\" in kalimat) #False\n"
      ],
      "metadata": {
        "id": "38ogjb_oaiDU"
      },
      "execution_count": null,
      "outputs": []
    },
    {
      "cell_type": "code",
      "source": [
        "##perbandingan comparison\n",
        "if \"matahari\" > \"bulan\":\n",
        "    print(\"Ya\") #Ya\n",
        "else:\n",
        "    print(\"Tidak\")\n",
        "\n",
        "if \"sunset\" == \"sunset\":\n",
        "    print(\"Sama\") #Sama\n"
      ],
      "metadata": {
        "id": "4sDs2wyCaiMF"
      },
      "execution_count": null,
      "outputs": []
    },
    {
      "cell_type": "code",
      "source": [
        "#fungsi len\n",
        "\n",
        "kalimat = \"pak matahari suka melihat matahari terbits\"\n",
        "print(len(kalimat)) #output 42\n",
        "\n",
        "terakhir = kalimat[len(kalimat)-1]\n",
        "print(terakhir) #output 's'\n",
        "\n",
        " #bisa juga menggunakan indeks -1\n",
        "terakhir_versi2 = kalimat[-1]\n",
        "print(terakhir_versi2) #output 's'\n",
        " #atau menggunakan indeks -2 untuk huruf terakhir kedua\n",
        "terakhir2 = kalimat[-2]\n",
        "print(terakhir2) #output 't'\n"
      ],
      "metadata": {
        "id": "8me74JsJaiTa"
      },
      "execution_count": null,
      "outputs": []
    },
    {
      "cell_type": "code",
      "source": [
        "#Traversing string with index\n",
        "\n",
        "kalimat = \"indonesia jaya\"\n",
        "i = 0\n",
        "while i < len(kalimat):\n",
        "    print(kalimat[i],end='')\n",
        "    i += 1"
      ],
      "metadata": {
        "id": "ruAEby3Raia6"
      },
      "execution_count": null,
      "outputs": []
    },
    {
      "cell_type": "code",
      "source": [
        "#Traversing string without index automatic\n",
        "\n",
        "kalimat = \"indonesia jaya\"\n",
        "for kal in kalimat:\n",
        "    print(kal,end='')\n",
        "\n"
      ],
      "metadata": {
        "id": "nJAeQrq5aiiQ"
      },
      "execution_count": null,
      "outputs": []
    },
    {
      "cell_type": "code",
      "source": [
        "  #string slice\n",
        "kalimat = \"cerita rakyat\"\n",
        "awal = 0\n",
        "akhir = 6\n",
        "print(kalimat[awal:akhir]) #cerita\n",
        "print(kalimat[7:len(kalimat)]) #rakyat\n",
        "print(kalimat[:5]) #cerit\n",
        "print(kalimat[5:]) #a rakya\n",
        "print(kalimat[:]) #cerita rakyat"
      ],
      "metadata": {
        "id": "tYQu73Fgaiph"
      },
      "execution_count": null,
      "outputs": []
    },
    {
      "cell_type": "code",
      "source": [
        "#operator * dan + pada satring\n",
        "\n",
        "kata1 = \"matahari\"\n",
        "kata2 = \"terbenam\"\n",
        "kata3 = kata1 + \" \" + kata2\n",
        "print(kata3) #hasil adalah penggabungan adalah matahari terbenam\n",
        "kata4 = \"dida\"\n",
        "print(kata4 * 4) #hasil adalah didadidadidadida\n",
        "kata4 = \"dida \"\n",
        "print(kata4 * 2) #hasil adalah dida dida\n"
      ],
      "metadata": {
        "id": "Ir8QuqaDBMij"
      },
      "execution_count": null,
      "outputs": []
    },
    {
      "cell_type": "code",
      "source": [
        "#parsing string\n",
        "kalimat = \"Saudara-saudara, pada tanggal 17-08-1945 Indonesia merdeka\"\n",
        "\n",
        "hasil = kalimat.split(\" \")\n",
        "\n",
        "for kal in hasil:\n",
        "    if kal[0].isdigit():\n",
        "        hasil2 = kal.split(\"-\")\n",
        "        print(hasil2[1]+\"/\"+hasil2[0]+\"/\"+hasil2[2])\n"
      ],
      "metadata": {
        "id": "jnSrJMzQBMn-"
      },
      "execution_count": null,
      "outputs": []
    },
    {
      "cell_type": "code",
      "source": [],
      "metadata": {
        "id": "87mXGhYqBMtX"
      },
      "execution_count": null,
      "outputs": []
    },
    {
      "cell_type": "code",
      "source": [],
      "metadata": {
        "id": "fdYjHogQBM1e"
      },
      "execution_count": null,
      "outputs": []
    }
  ]
}